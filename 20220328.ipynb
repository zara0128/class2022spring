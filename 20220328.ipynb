{
  "nbformat": 4,
  "nbformat_minor": 0,
  "metadata": {
    "colab": {
      "name": "20220328.ipynb",
      "provenance": [],
      "collapsed_sections": [],
      "authorship_tag": "ABX9TyOXzTvst51plAp2AhS9ggXY",
      "include_colab_link": true
    },
    "kernelspec": {
      "name": "python3",
      "display_name": "Python 3"
    },
    "language_info": {
      "name": "python"
    }
  },
  "cells": [
    {
      "cell_type": "markdown",
      "metadata": {
        "id": "view-in-github",
        "colab_type": "text"
      },
      "source": [
        "<a href=\"https://colab.research.google.com/github/zara0128/class2022spring/blob/main/20220328.ipynb\" target=\"_parent\"><img src=\"https://colab.research.google.com/assets/colab-badge.svg\" alt=\"Open In Colab\"/></a>"
      ]
    },
    {
      "cell_type": "code",
      "execution_count": 7,
      "metadata": {
        "colab": {
          "base_uri": "https://localhost:8080/"
        },
        "id": "goZfB21MtAy_",
        "outputId": "5c3dcdd2-81bb-4717-b965-3bb90ad90f06"
      },
      "outputs": [
        {
          "output_type": "stream",
          "name": "stdout",
          "text": [
            "Requirement already satisfied: gradio in /usr/local/lib/python3.7/dist-packages (2.9.1)\n",
            "Requirement already satisfied: aiohttp in /usr/local/lib/python3.7/dist-packages (from gradio) (3.8.1)\n",
            "Requirement already satisfied: ffmpy in /usr/local/lib/python3.7/dist-packages (from gradio) (0.3.0)\n",
            "Requirement already satisfied: numpy in /usr/local/lib/python3.7/dist-packages (from gradio) (1.21.5)\n",
            "Requirement already satisfied: fastapi in /usr/local/lib/python3.7/dist-packages (from gradio) (0.75.1)\n",
            "Requirement already satisfied: matplotlib in /usr/local/lib/python3.7/dist-packages (from gradio) (3.2.2)\n",
            "Requirement already satisfied: orjson in /usr/local/lib/python3.7/dist-packages (from gradio) (3.6.7)\n",
            "Requirement already satisfied: pillow in /usr/local/lib/python3.7/dist-packages (from gradio) (7.1.2)\n",
            "Requirement already satisfied: requests in /usr/local/lib/python3.7/dist-packages (from gradio) (2.23.0)\n",
            "Requirement already satisfied: pandas in /usr/local/lib/python3.7/dist-packages (from gradio) (1.3.5)\n",
            "Requirement already satisfied: analytics-python in /usr/local/lib/python3.7/dist-packages (from gradio) (1.4.0)\n",
            "Requirement already satisfied: paramiko in /usr/local/lib/python3.7/dist-packages (from gradio) (2.10.3)\n",
            "Requirement already satisfied: pydub in /usr/local/lib/python3.7/dist-packages (from gradio) (0.25.1)\n",
            "Requirement already satisfied: uvicorn in /usr/local/lib/python3.7/dist-packages (from gradio) (0.17.6)\n",
            "Requirement already satisfied: markdown-it-py[linkify,plugins] in /usr/local/lib/python3.7/dist-packages (from gradio) (2.0.1)\n",
            "Requirement already satisfied: python-multipart in /usr/local/lib/python3.7/dist-packages (from gradio) (0.0.5)\n",
            "Requirement already satisfied: pycryptodome in /usr/local/lib/python3.7/dist-packages (from gradio) (3.14.1)\n",
            "Requirement already satisfied: yarl<2.0,>=1.0 in /usr/local/lib/python3.7/dist-packages (from aiohttp->gradio) (1.7.2)\n",
            "Requirement already satisfied: charset-normalizer<3.0,>=2.0 in /usr/local/lib/python3.7/dist-packages (from aiohttp->gradio) (2.0.12)\n",
            "Requirement already satisfied: attrs>=17.3.0 in /usr/local/lib/python3.7/dist-packages (from aiohttp->gradio) (21.4.0)\n",
            "Requirement already satisfied: multidict<7.0,>=4.5 in /usr/local/lib/python3.7/dist-packages (from aiohttp->gradio) (6.0.2)\n",
            "Requirement already satisfied: async-timeout<5.0,>=4.0.0a3 in /usr/local/lib/python3.7/dist-packages (from aiohttp->gradio) (4.0.2)\n",
            "Requirement already satisfied: typing-extensions>=3.7.4 in /usr/local/lib/python3.7/dist-packages (from aiohttp->gradio) (3.10.0.2)\n",
            "Requirement already satisfied: frozenlist>=1.1.1 in /usr/local/lib/python3.7/dist-packages (from aiohttp->gradio) (1.3.0)\n",
            "Requirement already satisfied: aiosignal>=1.1.2 in /usr/local/lib/python3.7/dist-packages (from aiohttp->gradio) (1.2.0)\n",
            "Requirement already satisfied: asynctest==0.13.0 in /usr/local/lib/python3.7/dist-packages (from aiohttp->gradio) (0.13.0)\n",
            "Requirement already satisfied: idna>=2.0 in /usr/local/lib/python3.7/dist-packages (from yarl<2.0,>=1.0->aiohttp->gradio) (2.10)\n",
            "Requirement already satisfied: monotonic>=1.5 in /usr/local/lib/python3.7/dist-packages (from analytics-python->gradio) (1.6)\n",
            "Requirement already satisfied: six>=1.5 in /usr/local/lib/python3.7/dist-packages (from analytics-python->gradio) (1.15.0)\n",
            "Requirement already satisfied: python-dateutil>2.1 in /usr/local/lib/python3.7/dist-packages (from analytics-python->gradio) (2.8.2)\n",
            "Requirement already satisfied: backoff==1.10.0 in /usr/local/lib/python3.7/dist-packages (from analytics-python->gradio) (1.10.0)\n",
            "Requirement already satisfied: certifi>=2017.4.17 in /usr/local/lib/python3.7/dist-packages (from requests->gradio) (2021.10.8)\n",
            "Requirement already satisfied: urllib3!=1.25.0,!=1.25.1,<1.26,>=1.21.1 in /usr/local/lib/python3.7/dist-packages (from requests->gradio) (1.24.3)\n",
            "Requirement already satisfied: chardet<4,>=3.0.2 in /usr/local/lib/python3.7/dist-packages (from requests->gradio) (3.0.4)\n",
            "Requirement already satisfied: starlette==0.17.1 in /usr/local/lib/python3.7/dist-packages (from fastapi->gradio) (0.17.1)\n",
            "Requirement already satisfied: pydantic!=1.7,!=1.7.1,!=1.7.2,!=1.7.3,!=1.8,!=1.8.1,<2.0.0,>=1.6.2 in /usr/local/lib/python3.7/dist-packages (from fastapi->gradio) (1.9.0)\n",
            "Requirement already satisfied: anyio<4,>=3.0.0 in /usr/local/lib/python3.7/dist-packages (from starlette==0.17.1->fastapi->gradio) (3.5.0)\n",
            "Requirement already satisfied: sniffio>=1.1 in /usr/local/lib/python3.7/dist-packages (from anyio<4,>=3.0.0->starlette==0.17.1->fastapi->gradio) (1.2.0)\n",
            "Requirement already satisfied: mdurl~=0.1 in /usr/local/lib/python3.7/dist-packages (from markdown-it-py[linkify,plugins]->gradio) (0.1.0)\n",
            "Requirement already satisfied: linkify-it-py~=1.0 in /usr/local/lib/python3.7/dist-packages (from markdown-it-py[linkify,plugins]->gradio) (1.0.3)\n",
            "Requirement already satisfied: mdit-py-plugins in /usr/local/lib/python3.7/dist-packages (from markdown-it-py[linkify,plugins]->gradio) (0.3.0)\n",
            "Requirement already satisfied: uc-micro-py in /usr/local/lib/python3.7/dist-packages (from linkify-it-py~=1.0->markdown-it-py[linkify,plugins]->gradio) (1.0.1)\n",
            "Requirement already satisfied: cycler>=0.10 in /usr/local/lib/python3.7/dist-packages (from matplotlib->gradio) (0.11.0)\n",
            "Requirement already satisfied: pyparsing!=2.0.4,!=2.1.2,!=2.1.6,>=2.0.1 in /usr/local/lib/python3.7/dist-packages (from matplotlib->gradio) (3.0.7)\n",
            "Requirement already satisfied: kiwisolver>=1.0.1 in /usr/local/lib/python3.7/dist-packages (from matplotlib->gradio) (1.4.0)\n",
            "Requirement already satisfied: pytz>=2017.3 in /usr/local/lib/python3.7/dist-packages (from pandas->gradio) (2018.9)\n",
            "Requirement already satisfied: bcrypt>=3.1.3 in /usr/local/lib/python3.7/dist-packages (from paramiko->gradio) (3.2.0)\n",
            "Requirement already satisfied: pynacl>=1.0.1 in /usr/local/lib/python3.7/dist-packages (from paramiko->gradio) (1.5.0)\n",
            "Requirement already satisfied: cryptography>=2.5 in /usr/local/lib/python3.7/dist-packages (from paramiko->gradio) (36.0.2)\n",
            "Requirement already satisfied: cffi>=1.1 in /usr/local/lib/python3.7/dist-packages (from bcrypt>=3.1.3->paramiko->gradio) (1.15.0)\n",
            "Requirement already satisfied: pycparser in /usr/local/lib/python3.7/dist-packages (from cffi>=1.1->bcrypt>=3.1.3->paramiko->gradio) (2.21)\n",
            "Requirement already satisfied: h11>=0.8 in /usr/local/lib/python3.7/dist-packages (from uvicorn->gradio) (0.13.0)\n",
            "Requirement already satisfied: asgiref>=3.4.0 in /usr/local/lib/python3.7/dist-packages (from uvicorn->gradio) (3.5.0)\n",
            "Requirement already satisfied: click>=7.0 in /usr/local/lib/python3.7/dist-packages (from uvicorn->gradio) (7.1.2)\n"
          ]
        }
      ],
      "source": [
        "!pip install gradio\n",
        "import gradio as gr\n",
        "import requests\n",
        "import pandas as pd"
      ]
    },
    {
      "cell_type": "code",
      "source": [
        "requests.get('http://apis.data.go.kr/B551177/AviationStatsByAirline/getTotalNumberOfFlight?serviceKey=Zjqp%2Be%2BzEDVzAYMhYka7ej8naRCZOH2lxR9Z6vVaSX8Ndj8hiLgeTIY%2FYkjAy5YG4LWPOc66Ho9ARN9AoxgAuQ%3D%3D&from_month=201405&to_month=201405&periodicity=0&pax_cargo=Y&domestic_foreign=I&type=json')"
      ],
      "metadata": {
        "id": "OHdTmz56XTG5",
        "outputId": "202fb335-3665-49c7-bd6a-97c6c48a7e57",
        "colab": {
          "base_uri": "https://localhost:8080/"
        }
      },
      "execution_count": 30,
      "outputs": [
        {
          "output_type": "execute_result",
          "data": {
            "text/plain": [
              "<Response [200]>"
            ]
          },
          "metadata": {},
          "execution_count": 30
        }
      ]
    },
    {
      "cell_type": "code",
      "source": [
        "response = requests.get('http://apis.data.go.kr/B551177/AviationStatsByAirline/getTotalNumberOfFlight?serviceKey=Zjqp%2Be%2BzEDVzAYMhYka7ej8naRCZOH2lxR9Z6vVaSX8Ndj8hiLgeTIY%2FYkjAy5YG4LWPOc66Ho9ARN9AoxgAuQ%3D%3D&from_month=201405&to_month=201405&periodicity=0&pax_cargo=Y&domestic_foreign=I&type=json')\n",
        "response"
      ],
      "metadata": {
        "id": "9dnuPrvibf9K",
        "outputId": "26aee54e-24d4-4522-b2c7-8244fcede2df",
        "colab": {
          "base_uri": "https://localhost:8080/"
        }
      },
      "execution_count": 48,
      "outputs": [
        {
          "output_type": "execute_result",
          "data": {
            "text/plain": [
              "<Response [200]>"
            ]
          },
          "metadata": {},
          "execution_count": 48
        }
      ]
    },
    {
      "cell_type": "code",
      "source": [
        "def airline_status(airline):\n",
        "    URL = ( 'http://apis.data.go.kr/B551177/AviationStatsByAirline/getTotalNumberOfFlight?serviceKey=Zjqp%2Be%2BzEDVzAYMhYka7ej8naRCZOH2lxR9Z6vVaSX8Ndj8hiLgeTIY%2FYkjAy5YG4LWPOc66Ho9ARN9AoxgAuQ%3D%3D&from_month=201405&to_month=201405&periodicity=0&pax_cargo=Y&domestic_foreign=I&type=json')\n",
        "    response = requests.get(URL) "
      ],
      "metadata": {
        "id": "m18N0d4QzjlF"
      },
      "execution_count": 51,
      "outputs": []
    },
    {
      "cell_type": "code",
      "source": [
        "r=response.json()\n",
        "r  "
      ],
      "metadata": {
        "id": "MHDYKvXRc1ly",
        "outputId": "0e3cffae-452f-49b5-e178-1f8b5ba67b62",
        "colab": {
          "base_uri": "https://localhost:8080/"
        }
      },
      "execution_count": 52,
      "outputs": [
        {
          "output_type": "execute_result",
          "data": {
            "text/plain": [
              "{'response': {'body': {'items': [{'airline': 'KLM네덜란드항공',\n",
              "     'airlineCode': 'KL',\n",
              "     'arrFlights': '26',\n",
              "     'depFlights': '27',\n",
              "     'flights': '53'},\n",
              "    {'airline': '가루다인도네시아',\n",
              "     'airlineCode': 'GA',\n",
              "     'arrFlights': '62',\n",
              "     'depFlights': '62',\n",
              "     'flights': '124'},\n",
              "    {'airline': '다이나믹 에어',\n",
              "     'airlineCode': 'D2',\n",
              "     'arrFlights': '2',\n",
              "     'depFlights': '1',\n",
              "     'flights': '3'},\n",
              "    {'airline': '대한항공',\n",
              "     'airlineCode': 'KE',\n",
              "     'arrFlights': '2,950',\n",
              "     'depFlights': '2,953',\n",
              "     'flights': '5,903'},\n",
              "    {'airline': '델타항공',\n",
              "     'airlineCode': 'DL',\n",
              "     'arrFlights': '31',\n",
              "     'depFlights': '31',\n",
              "     'flights': '62'},\n",
              "    {'airline': '라오항공',\n",
              "     'airlineCode': 'QV',\n",
              "     'arrFlights': '19',\n",
              "     'depFlights': '19',\n",
              "     'flights': '38'},\n",
              "    {'airline': '루프트한자 독일항공',\n",
              "     'airlineCode': 'LH',\n",
              "     'arrFlights': '58',\n",
              "     'depFlights': '58',\n",
              "     'flights': '116'},\n",
              "    {'airline': '만다린항공',\n",
              "     'airlineCode': 'AE',\n",
              "     'arrFlights': '31',\n",
              "     'depFlights': '31',\n",
              "     'flights': '62'},\n",
              "    {'airline': '말레이시아 항공',\n",
              "     'airlineCode': 'MH',\n",
              "     'arrFlights': '31',\n",
              "     'depFlights': '31',\n",
              "     'flights': '62'},\n",
              "    {'airline': '몽골항공',\n",
              "     'airlineCode': 'OM',\n",
              "     'arrFlights': '27',\n",
              "     'depFlights': '27',\n",
              "     'flights': '54'},\n",
              "    {'airline': '바닐라 에어',\n",
              "     'airlineCode': 'JW',\n",
              "     'arrFlights': '62',\n",
              "     'depFlights': '62',\n",
              "     'flights': '124'},\n",
              "    {'airline': '베트남항공',\n",
              "     'airlineCode': 'VN',\n",
              "     'arrFlights': '121',\n",
              "     'depFlights': '121',\n",
              "     'flights': '242'},\n",
              "    {'airline': '비즈니스에어',\n",
              "     'airlineCode': '8B',\n",
              "     'arrFlights': '54',\n",
              "     'depFlights': '54',\n",
              "     'flights': '108'},\n",
              "    {'airline': '사천항공',\n",
              "     'airlineCode': '3U',\n",
              "     'arrFlights': '9',\n",
              "     'depFlights': '9',\n",
              "     'flights': '18'},\n",
              "    {'airline': '산동항공',\n",
              "     'airlineCode': 'SC',\n",
              "     'arrFlights': '111',\n",
              "     'depFlights': '111',\n",
              "     'flights': '222'},\n",
              "    {'airline': '상하이항공',\n",
              "     'airlineCode': 'FM',\n",
              "     'arrFlights': '31',\n",
              "     'depFlights': '31',\n",
              "     'flights': '62'},\n",
              "    {'airline': '샤먼항공',\n",
              "     'airlineCode': 'MF',\n",
              "     'arrFlights': '13',\n",
              "     'depFlights': '13',\n",
              "     'flights': '26'},\n",
              "    {'airline': '세부퍼시픽항공',\n",
              "     'airlineCode': '5J',\n",
              "     'arrFlights': '87',\n",
              "     'depFlights': '87',\n",
              "     'flights': '174'},\n",
              "    {'airline': '스카이 앙코르 항공',\n",
              "     'airlineCode': 'ZA',\n",
              "     'arrFlights': '2',\n",
              "     'depFlights': '2',\n",
              "     'flights': '4'},\n",
              "    {'airline': '스쿳 항공',\n",
              "     'airlineCode': 'TZ',\n",
              "     'arrFlights': '13',\n",
              "     'depFlights': '13',\n",
              "     'flights': '26'},\n",
              "    {'airline': '심천항공',\n",
              "     'airlineCode': 'ZH',\n",
              "     'arrFlights': '36',\n",
              "     'depFlights': '36',\n",
              "     'flights': '72'},\n",
              "    {'airline': '싱가포르항공',\n",
              "     'airlineCode': 'SQ',\n",
              "     'arrFlights': '155',\n",
              "     'depFlights': '155',\n",
              "     'flights': '310'},\n",
              "    {'airline': '아메리칸항공',\n",
              "     'airlineCode': 'AA',\n",
              "     'arrFlights': '31',\n",
              "     'depFlights': '31',\n",
              "     'flights': '62'},\n",
              "    {'airline': '아시아나항공',\n",
              "     'airlineCode': 'OZ',\n",
              "     'arrFlights': '2,409',\n",
              "     'depFlights': '2,409',\n",
              "     'flights': '4,818'},\n",
              "    {'airline': '아에로플로트 러시아항공',\n",
              "     'airlineCode': 'SU',\n",
              "     'arrFlights': '31',\n",
              "     'depFlights': '31',\n",
              "     'flights': '62'},\n",
              "    {'airline': '에미레이트항공',\n",
              "     'airlineCode': 'EK',\n",
              "     'arrFlights': '31',\n",
              "     'depFlights': '32',\n",
              "     'flights': '63'},\n",
              "    {'airline': '에바항공',\n",
              "     'airlineCode': 'BR',\n",
              "     'arrFlights': '62',\n",
              "     'depFlights': '62',\n",
              "     'flights': '124'},\n",
              "    {'airline': '에어 아스타나',\n",
              "     'airlineCode': 'KC',\n",
              "     'arrFlights': '10',\n",
              "     'depFlights': '10',\n",
              "     'flights': '20'},\n",
              "    {'airline': '에어 프랑스',\n",
              "     'airlineCode': 'AF',\n",
              "     'arrFlights': '31',\n",
              "     'depFlights': '31',\n",
              "     'flights': '62'},\n",
              "    {'airline': '에어마카우',\n",
              "     'airlineCode': 'NX',\n",
              "     'arrFlights': '48',\n",
              "     'depFlights': '48',\n",
              "     'flights': '96'},\n",
              "    {'airline': '에어아시아엑스',\n",
              "     'airlineCode': 'D7',\n",
              "     'arrFlights': '31',\n",
              "     'depFlights': '31',\n",
              "     'flights': '62'},\n",
              "    {'airline': '에어인디아 리미티드',\n",
              "     'airlineCode': 'AI',\n",
              "     'arrFlights': '17',\n",
              "     'depFlights': '17',\n",
              "     'flights': '34'},\n",
              "    {'airline': '에티오피아항공',\n",
              "     'airlineCode': 'ET',\n",
              "     'arrFlights': '17',\n",
              "     'depFlights': '17',\n",
              "     'flights': '34'},\n",
              "    {'airline': '에티하드 항공',\n",
              "     'airlineCode': 'EY',\n",
              "     'arrFlights': '31',\n",
              "     'depFlights': '31',\n",
              "     'flights': '62'},\n",
              "    {'airline': '영국항공',\n",
              "     'airlineCode': 'BA',\n",
              "     'arrFlights': '31',\n",
              "     'depFlights': '31',\n",
              "     'flights': '62'},\n",
              "    {'airline': '오로라항공',\n",
              "     'airlineCode': 'HZ',\n",
              "     'arrFlights': '52',\n",
              "     'depFlights': '52',\n",
              "     'flights': '104'},\n",
              "    {'airline': '우즈베키스탄항공',\n",
              "     'airlineCode': 'HY',\n",
              "     'arrFlights': '9',\n",
              "     'depFlights': '9',\n",
              "     'flights': '18'},\n",
              "    {'airline': '유나이티드항공',\n",
              "     'airlineCode': 'UA',\n",
              "     'arrFlights': '62',\n",
              "     'depFlights': '62',\n",
              "     'flights': '124'},\n",
              "    {'airline': '이스타항공',\n",
              "     'airlineCode': 'ZE',\n",
              "     'arrFlights': '174',\n",
              "     'depFlights': '173',\n",
              "     'flights': '347'},\n",
              "    {'airline': '일본항공',\n",
              "     'airlineCode': 'JL',\n",
              "     'arrFlights': '62',\n",
              "     'depFlights': '62',\n",
              "     'flights': '124'},\n",
              "    {'airline': '제주항공',\n",
              "     'airlineCode': '7C',\n",
              "     'arrFlights': '416',\n",
              "     'depFlights': '416',\n",
              "     'flights': '832'},\n",
              "    {'airline': '중국국제항공',\n",
              "     'airlineCode': 'CA',\n",
              "     'arrFlights': '278',\n",
              "     'depFlights': '278',\n",
              "     'flights': '556'},\n",
              "    {'airline': '중국남방항공',\n",
              "     'airlineCode': 'CZ',\n",
              "     'arrFlights': '443',\n",
              "     'depFlights': '443',\n",
              "     'flights': '886'},\n",
              "    {'airline': '중국동방항공',\n",
              "     'airlineCode': 'MU',\n",
              "     'arrFlights': '302',\n",
              "     'depFlights': '303',\n",
              "     'flights': '605'},\n",
              "    {'airline': '중화항공',\n",
              "     'airlineCode': 'CI',\n",
              "     'arrFlights': '49',\n",
              "     'depFlights': '49',\n",
              "     'flights': '98'},\n",
              "    {'airline': '진에어',\n",
              "     'airlineCode': 'LJ',\n",
              "     'arrFlights': '207',\n",
              "     'depFlights': '205',\n",
              "     'flights': '412'},\n",
              "    {'airline': '천진항공',\n",
              "     'airlineCode': 'GS',\n",
              "     'arrFlights': '31',\n",
              "     'depFlights': '31',\n",
              "     'flights': '62'},\n",
              "    {'airline': '체코항공',\n",
              "     'airlineCode': 'OK',\n",
              "     'arrFlights': '18',\n",
              "     'depFlights': '18',\n",
              "     'flights': '36'},\n",
              "    {'airline': '카타르항공',\n",
              "     'airlineCode': 'QR',\n",
              "     'arrFlights': '31',\n",
              "     'depFlights': '31',\n",
              "     'flights': '62'},\n",
              "    {'airline': '캐나다항공',\n",
              "     'airlineCode': 'AC',\n",
              "     'arrFlights': '31',\n",
              "     'depFlights': '31',\n",
              "     'flights': '62'},\n",
              "    {'airline': '캐세이패시픽항공',\n",
              "     'airlineCode': 'CX',\n",
              "     'arrFlights': '172',\n",
              "     'depFlights': '171',\n",
              "     'flights': '343'},\n",
              "    {'airline': '타이항공',\n",
              "     'airlineCode': 'TG',\n",
              "     'arrFlights': '178',\n",
              "     'depFlights': '178',\n",
              "     'flights': '356'},\n",
              "    {'airline': '터키항공',\n",
              "     'airlineCode': 'TK',\n",
              "     'arrFlights': '50',\n",
              "     'depFlights': '49',\n",
              "     'flights': '99'},\n",
              "    {'airline': '티웨이항공',\n",
              "     'airlineCode': 'TW',\n",
              "     'arrFlights': '97',\n",
              "     'depFlights': '97',\n",
              "     'flights': '194'},\n",
              "    {'airline': '피치항공',\n",
              "     'airlineCode': 'MM',\n",
              "     'arrFlights': '84',\n",
              "     'depFlights': '84',\n",
              "     'flights': '168'},\n",
              "    {'airline': '핀에어',\n",
              "     'airlineCode': 'AY',\n",
              "     'arrFlights': '31',\n",
              "     'depFlights': '31',\n",
              "     'flights': '62'},\n",
              "    {'airline': '필리핀에어아시아',\n",
              "     'airlineCode': 'Z2',\n",
              "     'arrFlights': '153',\n",
              "     'depFlights': '153',\n",
              "     'flights': '306'},\n",
              "    {'airline': '필리핀항공',\n",
              "     'airlineCode': 'PR',\n",
              "     'arrFlights': '155',\n",
              "     'depFlights': '155',\n",
              "     'flights': '310'},\n",
              "    {'airline': '하와이안 항공',\n",
              "     'airlineCode': 'HA',\n",
              "     'arrFlights': '25',\n",
              "     'depFlights': '25',\n",
              "     'flights': '50'},\n",
              "    {'airline': '홍콩익스프레스',\n",
              "     'airlineCode': 'UO',\n",
              "     'arrFlights': '58',\n",
              "     'depFlights': '58',\n",
              "     'flights': '116'}]},\n",
              "  'header': {'resultCode': '00', 'resultMsg': 'NORMAL SERVICE.'}}}"
            ]
          },
          "metadata": {},
          "execution_count": 52
        }
      ]
    },
    {
      "cell_type": "code",
      "source": [
        "items = r['response']['body']['items']\n",
        "\n",
        "from_month = [item['from_month'] for item in items]\n",
        "to_month = [item['to_month'] for item in items]\n",
        "periodicity = [item['periodicity'] for item in items]\n",
        "domestic_foreign = [item['domestic_foreign'] for item in items]\n",
        "passenger_type = [item['passenger_type'] for item in items]\n",
        "type = [item['type'] for item in items]\n",
        "\n",
        "from_month = pd.Series(from_month)\n",
        "to_month = pd.Series(to_month)   \n",
        "periodicity = pd.Series(periodicity)\n",
        "domestic_foreign = pd.Series(domestic_foreign)\n",
        "passenger_type = pd.Series(passenger_type)\n",
        "type = pd.Series(type)\n",
        "    \n",
        "df = pd.DataFrame({ '항공사': from_month, '항공사코드': to_month, '도착': periodicity, '출발': depPassenger, '합계': domestic_foreign, '승객 유형': passenger_type, '응답 유형': type})\n",
        "df"
      ],
      "metadata": {
        "id": "wzM0EvLHcrUT"
      },
      "execution_count": null,
      "outputs": []
    },
    {
      "cell_type": "code",
      "source": [
        "iface = gr.Interface(airline_status, gr.inputs.Dropdown(['S7 항공', '가루다인도네시아항공', '대한항공', '델타항공', '라오항공', '로얄 에어 모로코', '루프트한자항공', '만다린항공', '말레이시아항공', '몽골항공', '미국남부화물항공', '베트남항공', '비엣젯항공', '사천항공', '산동항공', '상하이항공', '세부퍼시픽항공']), outputs=['dataframe'])\n",
        "iface.launch(debug=True) "
      ],
      "metadata": {
        "colab": {
          "base_uri": "https://localhost:8080/",
          "height": 1000
        },
        "id": "LcdsE9_01Swi",
        "outputId": "a01f2de0-2fe5-40ac-b425-d53388f2757e"
      },
      "execution_count": 39,
      "outputs": [
        {
          "output_type": "stream",
          "name": "stdout",
          "text": [
            "Colab notebook detected. This cell will run indefinitely so that you can see errors and logs. To turn off, set debug=False in launch().\n",
            "Running on public URL: https://58276.gradio.app\n",
            "\n",
            "This share link expires in 72 hours. For free permanent hosting, check out Spaces (https://huggingface.co/spaces)\n"
          ]
        },
        {
          "output_type": "display_data",
          "data": {
            "text/plain": [
              "<IPython.lib.display.IFrame at 0x7f708ae1e290>"
            ],
            "text/html": [
              "\n",
              "        <iframe\n",
              "            width=\"900\"\n",
              "            height=\"500\"\n",
              "            src=\"https://58276.gradio.app\"\n",
              "            frameborder=\"0\"\n",
              "            allowfullscreen\n",
              "        ></iframe>\n",
              "        "
            ]
          },
          "metadata": {}
        },
        {
          "output_type": "stream",
          "name": "stderr",
          "text": [
            "Traceback (most recent call last):\n",
            "  File \"/usr/local/lib/python3.7/dist-packages/gradio/routes.py\", line 269, in predict\n",
            "    output = await run_in_threadpool(app.launchable.process_api, body, username)\n",
            "  File \"/usr/local/lib/python3.7/dist-packages/starlette/concurrency.py\", line 39, in run_in_threadpool\n",
            "    return await anyio.to_thread.run_sync(func, *args)\n",
            "  File \"/usr/local/lib/python3.7/dist-packages/anyio/to_thread.py\", line 29, in run_sync\n",
            "    limiter=limiter)\n",
            "  File \"/usr/local/lib/python3.7/dist-packages/anyio/_backends/_asyncio.py\", line 818, in run_sync_in_worker_thread\n",
            "    return await future\n",
            "  File \"/usr/local/lib/python3.7/dist-packages/anyio/_backends/_asyncio.py\", line 754, in run\n",
            "    result = context.run(func, *args)\n",
            "  File \"/usr/local/lib/python3.7/dist-packages/gradio/interface.py\", line 573, in process_api\n",
            "    prediction, durations = self.process(raw_input)\n",
            "  File \"/usr/local/lib/python3.7/dist-packages/gradio/interface.py\", line 616, in process\n",
            "    processed_input, return_duration=True\n",
            "  File \"/usr/local/lib/python3.7/dist-packages/gradio/interface.py\", line 531, in run_prediction\n",
            "    prediction = predict_fn(*processed_input)\n",
            "  File \"<ipython-input-38-a3ddca301774>\", line 6, in airline_status\n",
            "    items = r['body']['items']\n",
            "KeyError: 'body'\n"
          ]
        },
        {
          "output_type": "stream",
          "name": "stdout",
          "text": [
            "Keyboard interruption in main thread... closing server.\n"
          ]
        },
        {
          "output_type": "execute_result",
          "data": {
            "text/plain": [
              "(<fastapi.applications.FastAPI at 0x7f709d6b6110>,\n",
              " 'http://127.0.0.1:7860/',\n",
              " 'https://58276.gradio.app')"
            ]
          },
          "metadata": {},
          "execution_count": 39
        }
      ]
    }
  ]
}