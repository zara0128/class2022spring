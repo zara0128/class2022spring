{
  "nbformat": 4,
  "nbformat_minor": 0,
  "metadata": {
    "colab": {
      "name": "20220425.ipynb",
      "provenance": [],
      "collapsed_sections": [],
      "authorship_tag": "ABX9TyPb+YigOejFzZor2tGnZnZV",
      "include_colab_link": true
    },
    "kernelspec": {
      "name": "python3",
      "display_name": "Python 3"
    },
    "language_info": {
      "name": "python"
    }
  },
  "cells": [
    {
      "cell_type": "markdown",
      "metadata": {
        "id": "view-in-github",
        "colab_type": "text"
      },
      "source": [
        "<a href=\"https://colab.research.google.com/github/zara0128/class2022spring/blob/main/20220425.ipynb\" target=\"_parent\"><img src=\"https://colab.research.google.com/assets/colab-badge.svg\" alt=\"Open In Colab\"/></a>"
      ]
    },
    {
      "cell_type": "markdown",
      "source": [
        "# Autocorrelation\n",
        "자기상관\n",
        "\n",
        "Serial correlation이라고도 함.\n",
        "\n",
        "Signal과 그것의 지연된 복제와의 상관관계. 연속된 시간 간격 동안 동일한 변수의 값 간의 유사성을 나타내는 데이터의 특성\n",
        "\n",
        "Time domain signal과 같은 함수나 일련의 값을 분석하기 위해 사용됨.\n",
        "\n",
        "자기 상관 분석은 소리와 노이즈에 가려진 반복 패턴, 주기적 신호를 찾는 것과 누락됐을 가능성이 있는 기본 주파수를 식별하는 데에 쓰이는 수학적 도구임.\n",
        "\n",
        "자기상관을 일으키는 요인은 시간.\n",
        "\n",
        "음성의 pitch를 보여줄 수 있음. (pitch: 소리의 높낮이)"
      ],
      "metadata": {
        "id": "vaUIWVHS1LVu"
      }
    },
    {
      "cell_type": "code",
      "execution_count": null,
      "metadata": {
        "id": "_uHluTij1CEv"
      },
      "outputs": [],
      "source": [
        ""
      ]
    },
    {
      "cell_type": "markdown",
      "source": [
        "# RMS (root mean square)\n",
        "실효값. 실효 출력을 나타내는 말. (또는 정격 출력)\n",
        "/ 제곱평균제곱근\n",
        "\n",
        "원래 값을 제곱한 값들의 평균 값에 루트를 씌운 값임. 평균값과 유사함.\n",
        "\n",
        "주로 전기공학과 음향학에서 쓰임. (ex. 앰프가 연속적으로 낼 수 있는 출력을 표시하는데 이때 값이 높을수록 증폭 능력이 좋음을 뜻함)\n",
        "\n",
        "파이썬에서는 소리의 크기와 연관이 돼 있음. \n",
        "\n"
      ],
      "metadata": {
        "id": "Q7LVh_Sj1S1k"
      }
    }
  ]
}