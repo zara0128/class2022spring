{
  "nbformat": 4,
  "nbformat_minor": 0,
  "metadata": {
    "colab": {
      "name": "20220316.ipynb",
      "provenance": [],
      "collapsed_sections": [],
      "authorship_tag": "ABX9TyM45/bF8hahCBnOe5wQ3A45",
      "include_colab_link": true
    },
    "kernelspec": {
      "name": "python3",
      "display_name": "Python 3"
    },
    "language_info": {
      "name": "python"
    }
  },
  "cells": [
    {
      "cell_type": "markdown",
      "metadata": {
        "id": "view-in-github",
        "colab_type": "text"
      },
      "source": [
        "<a href=\"https://colab.research.google.com/github/zara0128/class2022spring/blob/main/20220316.ipynb\" target=\"_parent\"><img src=\"https://colab.research.google.com/assets/colab-badge.svg\" alt=\"Open In Colab\"/></a>"
      ]
    },
    {
      "cell_type": "markdown",
      "source": [
        "# 변수"
      ],
      "metadata": {
        "id": "HkUT5sH7YQES"
      }
    },
    {
      "cell_type": "code",
      "execution_count": 11,
      "metadata": {
        "id": "f39xN4fS_Fo2",
        "colab": {
          "base_uri": "https://localhost:8080/"
        },
        "outputId": "85f0baaa-bdc7-4b13-d203-54141154aaa2"
      },
      "outputs": [
        {
          "output_type": "stream",
          "name": "stdout",
          "text": [
            "<class 'int'>\n"
          ]
        }
      ],
      "source": [
        "a = 21; print(type(a))"
      ]
    },
    {
      "cell_type": "markdown",
      "source": [
        "int=정수"
      ],
      "metadata": {
        "id": "G_zXvbUnYuXX"
      }
    },
    {
      "cell_type": "code",
      "source": [
        "a = 21.1; print(type(a))"
      ],
      "metadata": {
        "colab": {
          "base_uri": "https://localhost:8080/"
        },
        "id": "FIQDahnpYw7N",
        "outputId": "af792975-1b6a-41fb-b666-66cfe4f20b99"
      },
      "execution_count": 8,
      "outputs": [
        {
          "output_type": "stream",
          "name": "stdout",
          "text": [
            "<class 'float'>\n"
          ]
        }
      ]
    },
    {
      "cell_type": "markdown",
      "source": [
        "float=실수"
      ],
      "metadata": {
        "id": "oKA16CN7ZPoP"
      }
    },
    {
      "cell_type": "code",
      "source": [
        "t = 21; print(type(t))"
      ],
      "metadata": {
        "colab": {
          "base_uri": "https://localhost:8080/"
        },
        "id": "DXcX7Fv8ZSNU",
        "outputId": "25bccc92-b021-4e46-832c-5ceca7b75bad"
      },
      "execution_count": 10,
      "outputs": [
        {
          "output_type": "stream",
          "name": "stdout",
          "text": [
            "<class 'int'>\n"
          ]
        }
      ]
    },
    {
      "cell_type": "markdown",
      "source": [
        "string (single or double quote both okay)"
      ],
      "metadata": {
        "id": "ejrVZI6ubRG-"
      }
    },
    {
      "cell_type": "code",
      "source": [
        "t = '23456'; print(type(t)); print(t[3])"
      ],
      "metadata": {
        "colab": {
          "base_uri": "https://localhost:8080/"
        },
        "id": "LMkPJx1CZrpS",
        "outputId": "b336e847-f95b-4b60-d052-842d0c86e590"
      },
      "execution_count": 17,
      "outputs": [
        {
          "output_type": "stream",
          "name": "stdout",
          "text": [
            "<class 'str'>\n",
            "5\n"
          ]
        }
      ]
    },
    {
      "cell_type": "code",
      "source": [
        "t = \"twenty one pilots\"; print(type(t)); print(t[7])"
      ],
      "metadata": {
        "colab": {
          "base_uri": "https://localhost:8080/"
        },
        "id": "vpK9VlODbSmZ",
        "outputId": "c954b654-8533-4832-bd58-db0faca4b8b4"
      },
      "execution_count": 18,
      "outputs": [
        {
          "output_type": "stream",
          "name": "stdout",
          "text": [
            "<class 'str'>\n",
            "o\n"
          ]
        }
      ]
    },
    {
      "cell_type": "markdown",
      "source": [
        "list"
      ],
      "metadata": {
        "id": "PEfsqXDubsuH"
      }
    },
    {
      "cell_type": "code",
      "source": [
        "t = [3, 2, 2]; print(type(t)); print(t[1])"
      ],
      "metadata": {
        "colab": {
          "base_uri": "https://localhost:8080/"
        },
        "id": "zHCfIel9bpaS",
        "outputId": "aa78005b-8246-4a3e-a1c7-5376f0548171"
      },
      "execution_count": 19,
      "outputs": [
        {
          "output_type": "stream",
          "name": "stdout",
          "text": [
            "<class 'list'>\n",
            "2\n"
          ]
        }
      ]
    },
    {
      "cell_type": "code",
      "source": [
        "t = ['m', 'c', 'r', 4, 7, ['p', 8, 9]]; print(type(t)); print(t[2]); print(t[5][0])"
      ],
      "metadata": {
        "colab": {
          "base_uri": "https://localhost:8080/"
        },
        "id": "75QhOBNccYV3",
        "outputId": "3e76abd9-2034-42a3-8d23-2c791a751881"
      },
      "execution_count": 22,
      "outputs": [
        {
          "output_type": "stream",
          "name": "stdout",
          "text": [
            "<class 'list'>\n",
            "r\n",
            "p\n"
          ]
        }
      ]
    },
    {
      "cell_type": "markdown",
      "source": [
        "Dict (중괄호)"
      ],
      "metadata": {
        "id": "MtwKg7MedmWQ"
      }
    },
    {
      "cell_type": "code",
      "source": [
        "t= {\"r\": \"rock\", \"ty\": \"tyler\", \"123\": 893582}; print(type(t)); print(t[\"ty\"])"
      ],
      "metadata": {
        "colab": {
          "base_uri": "https://localhost:8080/"
        },
        "id": "Ou2fI9efdnVZ",
        "outputId": "75b39d28-9422-4747-8438-83047bede566"
      },
      "execution_count": 29,
      "outputs": [
        {
          "output_type": "stream",
          "name": "stdout",
          "text": [
            "<class 'dict'>\n",
            "tyler\n"
          ]
        }
      ]
    },
    {
      "cell_type": "markdown",
      "source": [
        "**String** (s)"
      ],
      "metadata": {
        "id": "Qm0xh1Lhfe-e"
      }
    },
    {
      "cell_type": "code",
      "source": [
        "s = \"12345678\" \n",
        "print(s[2], s[4], s[5])\n",
        "print(s[:4], s[:], s[2:7], s[0:], s[4:-1])"
      ],
      "metadata": {
        "colab": {
          "base_uri": "https://localhost:8080/"
        },
        "id": "0r8Gyz8ofivg",
        "outputId": "3852ec60-565f-46e1-ba2d-56ffdb67e59f"
      },
      "execution_count": 32,
      "outputs": [
        {
          "output_type": "stream",
          "name": "stdout",
          "text": [
            "3 5 6\n",
            "1234 12345678 34567 12345678 567\n"
          ]
        }
      ]
    },
    {
      "cell_type": "markdown",
      "source": [
        "**List** (n)"
      ],
      "metadata": {
        "id": "roarbFHBhHlC"
      }
    },
    {
      "cell_type": "code",
      "source": [
        "n = [200, 400, 600]\n",
        "print(n[1])\n",
        "print(n[:-1])"
      ],
      "metadata": {
        "colab": {
          "base_uri": "https://localhost:8080/"
        },
        "id": "8BtMRcEQhJv5",
        "outputId": "626a934c-4111-497e-84a9-bcb1aa6e5420"
      },
      "execution_count": 33,
      "outputs": [
        {
          "output_type": "stream",
          "name": "stdout",
          "text": [
            "400\n",
            "[200, 400]\n"
          ]
        }
      ]
    },
    {
      "cell_type": "code",
      "source": [
        "len(n)"
      ],
      "metadata": {
        "colab": {
          "base_uri": "https://localhost:8080/"
        },
        "id": "aIRhZvVVhet6",
        "outputId": "1db90b04-f3f7-4bec-8294-a2919098d6fc"
      },
      "execution_count": 37,
      "outputs": [
        {
          "output_type": "execute_result",
          "data": {
            "text/plain": [
              "3"
            ]
          },
          "metadata": {},
          "execution_count": 37
        }
      ]
    },
    {
      "cell_type": "code",
      "source": [
        "len(s)"
      ],
      "metadata": {
        "colab": {
          "base_uri": "https://localhost:8080/"
        },
        "id": "f9Yp0uszhrIe",
        "outputId": "62107c2a-2e19-4fa0-8144-b173fbb67f7e"
      },
      "execution_count": 38,
      "outputs": [
        {
          "output_type": "execute_result",
          "data": {
            "text/plain": [
              "8"
            ]
          },
          "metadata": {},
          "execution_count": 38
        }
      ]
    },
    {
      "cell_type": "markdown",
      "source": [
        "사칙연산"
      ],
      "metadata": {
        "id": "y8iHkzHHh578"
      }
    },
    {
      "cell_type": "code",
      "source": [
        "s[2]+s[6]+s[7:]*21"
      ],
      "metadata": {
        "colab": {
          "base_uri": "https://localhost:8080/",
          "height": 35
        },
        "id": "lTnlapqrhtSA",
        "outputId": "d0b3e2dd-585c-4b0a-d443-3c96242e6e52"
      },
      "execution_count": 44,
      "outputs": [
        {
          "output_type": "execute_result",
          "data": {
            "text/plain": [
              "'37888888888888888888888'"
            ],
            "application/vnd.google.colaboratory.intrinsic+json": {
              "type": "string"
            }
          },
          "metadata": {},
          "execution_count": 44
        }
      ]
    },
    {
      "cell_type": "code",
      "source": [
        "s = ' I am on the outside in the summer heat' \n",
        "s"
      ],
      "metadata": {
        "colab": {
          "base_uri": "https://localhost:8080/",
          "height": 35
        },
        "id": "KWQ4xkqqjMA-",
        "outputId": "4893083b-cb0c-4747-ed95-e2954176e505"
      },
      "execution_count": 52,
      "outputs": [
        {
          "output_type": "execute_result",
          "data": {
            "text/plain": [
              "' I am on the outside in the summer heat'"
            ],
            "application/vnd.google.colaboratory.intrinsic+json": {
              "type": "string"
            }
          },
          "metadata": {},
          "execution_count": 52
        }
      ]
    },
    {
      "cell_type": "code",
      "source": [
        "result = s.find('outside')\n",
        "result"
      ],
      "metadata": {
        "colab": {
          "base_uri": "https://localhost:8080/"
        },
        "id": "1fwMv9cajSQL",
        "outputId": "5e8401f0-ad71-4a0c-c185-b3f8242801bc"
      },
      "execution_count": 53,
      "outputs": [
        {
          "output_type": "execute_result",
          "data": {
            "text/plain": [
              "13"
            ]
          },
          "metadata": {},
          "execution_count": 53
        }
      ]
    },
    {
      "cell_type": "code",
      "source": [
        "s = s.strip()\n",
        "s"
      ],
      "metadata": {
        "colab": {
          "base_uri": "https://localhost:8080/",
          "height": 35
        },
        "id": "mYMK3CVMj1RD",
        "outputId": "a8e51ac6-550d-4829-e064-9e10079a117a"
      },
      "execution_count": 57,
      "outputs": [
        {
          "output_type": "execute_result",
          "data": {
            "text/plain": [
              "'I am on the outside in the summer heat'"
            ],
            "application/vnd.google.colaboratory.intrinsic+json": {
              "type": "string"
            }
          },
          "metadata": {},
          "execution_count": 57
        }
      ]
    },
    {
      "cell_type": "code",
      "source": [
        "tokens = s.split(' ')\n",
        "tokens"
      ],
      "metadata": {
        "colab": {
          "base_uri": "https://localhost:8080/"
        },
        "id": "T0Rp9GgLkLL3",
        "outputId": "71539edd-b41f-462b-8de8-adb5efc83ba7"
      },
      "execution_count": 58,
      "outputs": [
        {
          "output_type": "execute_result",
          "data": {
            "text/plain": [
              "['I', 'am', 'on', 'the', 'outside', 'in', 'the', 'summer', 'heat']"
            ]
          },
          "metadata": {},
          "execution_count": 58
        }
      ]
    },
    {
      "cell_type": "code",
      "source": [
        "s = ' '.join(tokens)\n",
        "s"
      ],
      "metadata": {
        "colab": {
          "base_uri": "https://localhost:8080/",
          "height": 35
        },
        "id": "I9SF5uXikYkp",
        "outputId": "115998b8-9a6e-409d-e8b4-dd6e3084c127"
      },
      "execution_count": 59,
      "outputs": [
        {
          "output_type": "execute_result",
          "data": {
            "text/plain": [
              "'I am on the outside in the summer heat'"
            ],
            "application/vnd.google.colaboratory.intrinsic+json": {
              "type": "string"
            }
          },
          "metadata": {},
          "execution_count": 59
        }
      ]
    },
    {
      "cell_type": "code",
      "source": [
        "s = s.replace('outside', 'inside')\n",
        "s"
      ],
      "metadata": {
        "colab": {
          "base_uri": "https://localhost:8080/",
          "height": 35
        },
        "id": "tqgsux7Pkhr7",
        "outputId": "69c4fc85-d55a-411c-d616-7cfe1e22792c"
      },
      "execution_count": 60,
      "outputs": [
        {
          "output_type": "execute_result",
          "data": {
            "text/plain": [
              "'I am on the inside in the summer heat'"
            ],
            "application/vnd.google.colaboratory.intrinsic+json": {
              "type": "string"
            }
          },
          "metadata": {},
          "execution_count": 60
        }
      ]
    },
    {
      "cell_type": "markdown",
      "source": [
        "# 함수 Function"
      ],
      "metadata": {
        "id": "y3pFiLIWkuYD"
      }
    },
    {
      "cell_type": "code",
      "source": [
        "def add(a,b):\n",
        "  return a+b\n",
        "def subtract(a,b):\n",
        "  return a-b\n",
        "def multiply(a,b):\n",
        "  return a*b\n",
        "def divide(a,b):\n",
        "  return a/b"
      ],
      "metadata": {
        "id": "Vk1-XJkRkx7F"
      },
      "execution_count": 67,
      "outputs": []
    },
    {
      "cell_type": "code",
      "source": [
        "t = add(21,322); print(t)\n",
        "t = subtract(21,322); print(t)\n",
        "t = multiply(21,322); print(t)\n",
        "t = divide(21,322); print(t)"
      ],
      "metadata": {
        "colab": {
          "base_uri": "https://localhost:8080/"
        },
        "id": "EBqqp1K7macv",
        "outputId": "f2bc0a20-10c1-498f-d699-b0a973981a53"
      },
      "execution_count": 70,
      "outputs": [
        {
          "output_type": "stream",
          "name": "stdout",
          "text": [
            "343\n",
            "-301\n",
            "6762\n",
            "0.06521739130434782\n"
          ]
        }
      ]
    },
    {
      "cell_type": "markdown",
      "source": [
        "# 문법 Syntax"
      ],
      "metadata": {
        "id": "hmbJsd06o5N2"
      }
    },
    {
      "cell_type": "code",
      "source": [
        "t = [23, 556, 23, 1]\n",
        "for i in t:\n",
        "  print(i)"
      ],
      "metadata": {
        "colab": {
          "base_uri": "https://localhost:8080/"
        },
        "id": "e7PrHabwo_Ea",
        "outputId": "056ce080-900c-414e-c3d1-2444202622e0"
      },
      "execution_count": 72,
      "outputs": [
        {
          "output_type": "stream",
          "name": "stdout",
          "text": [
            "23\n",
            "556\n",
            "23\n",
            "1\n"
          ]
        }
      ]
    },
    {
      "cell_type": "code",
      "source": [
        "t = [23, 556, 'red', 1]\n",
        "for i in range(len(t)):\n",
        "  print(t[i])"
      ],
      "metadata": {
        "colab": {
          "base_uri": "https://localhost:8080/"
        },
        "id": "AmWGJkC_rz0b",
        "outputId": "58ed6657-4ede-4583-b1f4-b6302ddbe8c5"
      },
      "execution_count": 76,
      "outputs": [
        {
          "output_type": "stream",
          "name": "stdout",
          "text": [
            "23\n",
            "556\n",
            "red\n",
            "1\n"
          ]
        }
      ]
    },
    {
      "cell_type": "code",
      "source": [
        "t = 2\n",
        "if t == 0:\n",
        "    print(t)\n",
        "else:\n",
        "    print(t+1)"
      ],
      "metadata": {
        "colab": {
          "base_uri": "https://localhost:8080/"
        },
        "id": "AYTZ-OJ0sQx3",
        "outputId": "8582c6c8-571c-4e44-819b-0387c56ae25a"
      },
      "execution_count": 77,
      "outputs": [
        {
          "output_type": "stream",
          "name": "stdout",
          "text": [
            "3\n"
          ]
        }
      ]
    },
    {
      "cell_type": "code",
      "source": [
        "for i in range(1, 6):\n",
        "    for j in range(4, 7):\n",
        "        print(i*j)"
      ],
      "metadata": {
        "colab": {
          "base_uri": "https://localhost:8080/"
        },
        "id": "EHobnYqEs_dc",
        "outputId": "4c527627-cc77-4957-f09a-2cd9e57b92bd"
      },
      "execution_count": 78,
      "outputs": [
        {
          "output_type": "stream",
          "name": "stdout",
          "text": [
            "4\n",
            "5\n",
            "6\n",
            "8\n",
            "10\n",
            "12\n",
            "12\n",
            "15\n",
            "18\n",
            "16\n",
            "20\n",
            "24\n",
            "20\n",
            "25\n",
            "30\n"
          ]
        }
      ]
    },
    {
      "cell_type": "code",
      "source": [
        "for i in range(1, 6):\n",
        "    for j in range(4, 7):\n",
        "        if j >=6:\n",
        "            print(i*j)"
      ],
      "metadata": {
        "colab": {
          "base_uri": "https://localhost:8080/"
        },
        "id": "HwWGFqfntf_x",
        "outputId": "d7a29bfa-aaf3-48cc-9276-1c1861e38b92"
      },
      "execution_count": 79,
      "outputs": [
        {
          "output_type": "stream",
          "name": "stdout",
          "text": [
            "6\n",
            "12\n",
            "18\n",
            "24\n",
            "30\n"
          ]
        }
      ]
    },
    {
      "cell_type": "code",
      "source": [
        "a = [1, 2, 3, 4]\n",
        "b = [i for i in a if i >=2]\n",
        "b"
      ],
      "metadata": {
        "colab": {
          "base_uri": "https://localhost:8080/"
        },
        "id": "1FppCpgAt8Hd",
        "outputId": "18c7b1f3-f0b7-49ef-a171-482144d576f1"
      },
      "execution_count": 80,
      "outputs": [
        {
          "output_type": "execute_result",
          "data": {
            "text/plain": [
              "[2, 3, 4]"
            ]
          },
          "metadata": {},
          "execution_count": 80
        }
      ]
    },
    {
      "cell_type": "code",
      "source": [
        "a = ['legend', 'inertia', 'trust', 'fairly']\n",
        "b = [i for i in a if len(i) >=6]\n",
        "b"
      ],
      "metadata": {
        "colab": {
          "base_uri": "https://localhost:8080/"
        },
        "id": "UgNALEOPuQrG",
        "outputId": "290e4ffc-b1cf-4c66-c47f-984388a759c3"
      },
      "execution_count": 81,
      "outputs": [
        {
          "output_type": "execute_result",
          "data": {
            "text/plain": [
              "['legend', 'inertia', 'fairly']"
            ]
          },
          "metadata": {},
          "execution_count": 81
        }
      ]
    },
    {
      "cell_type": "code",
      "source": [
        "a = ['legend', 'inertia', 'trust', 'fairly']\n",
        "b = [1, 2, 3, 4, 5]\n",
        "c = {a[i]:b[i] for i in range(4)}\n",
        "c"
      ],
      "metadata": {
        "colab": {
          "base_uri": "https://localhost:8080/"
        },
        "id": "ZIvj0vYnu4L8",
        "outputId": "6f003749-a5ea-40b7-f6eb-781720bbf712"
      },
      "execution_count": 85,
      "outputs": [
        {
          "output_type": "execute_result",
          "data": {
            "text/plain": [
              "{'fairly': 4, 'inertia': 2, 'legend': 1, 'trust': 3}"
            ]
          },
          "metadata": {},
          "execution_count": 85
        }
      ]
    },
    {
      "cell_type": "markdown",
      "source": [
        "# Packages"
      ],
      "metadata": {
        "id": "TUcLjM0xv0-m"
      }
    },
    {
      "cell_type": "code",
      "source": [
        "import numpy \n",
        "import pandas\n",
        "import matplotlib\n",
        "import seaborn\n",
        "import sklearn\n",
        "import requests\n",
        "import urllib3\n",
        "import nltk\n",
        "import PIL\n",
        "import pytest\n",
        "import librosa"
      ],
      "metadata": {
        "id": "lesa1LyLv3Te"
      },
      "execution_count": 86,
      "outputs": []
    }
  ]
}