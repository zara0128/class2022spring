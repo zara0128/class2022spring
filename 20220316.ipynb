{
  "nbformat": 4,
  "nbformat_minor": 0,
  "metadata": {
    "colab": {
      "name": "20220316.ipynb",
      "provenance": [],
      "collapsed_sections": [],
      "authorship_tag": "ABX9TyOFAHtq8Y0GmapI9eSnNbr4",
      "include_colab_link": true
    },
    "kernelspec": {
      "name": "python3",
      "display_name": "Python 3"
    },
    "language_info": {
      "name": "python"
    }
  },
  "cells": [
    {
      "cell_type": "markdown",
      "metadata": {
        "id": "view-in-github",
        "colab_type": "text"
      },
      "source": [
        "<a href=\"https://colab.research.google.com/github/zara0128/class2022spring/blob/main/20220316.ipynb\" target=\"_parent\"><img src=\"https://colab.research.google.com/assets/colab-badge.svg\" alt=\"Open In Colab\"/></a>"
      ]
    },
    {
      "cell_type": "markdown",
      "source": [
        "# 변수"
      ],
      "metadata": {
        "id": "HkUT5sH7YQES"
      }
    },
    {
      "cell_type": "code",
      "execution_count": 11,
      "metadata": {
        "id": "f39xN4fS_Fo2",
        "colab": {
          "base_uri": "https://localhost:8080/"
        },
        "outputId": "85f0baaa-bdc7-4b13-d203-54141154aaa2"
      },
      "outputs": [
        {
          "output_type": "stream",
          "name": "stdout",
          "text": [
            "<class 'int'>\n"
          ]
        }
      ],
      "source": [
        "a = 21; print(type(a))"
      ]
    },
    {
      "cell_type": "markdown",
      "source": [
        "int=정수"
      ],
      "metadata": {
        "id": "G_zXvbUnYuXX"
      }
    },
    {
      "cell_type": "code",
      "source": [
        "a = 21.1; print(type(a))"
      ],
      "metadata": {
        "colab": {
          "base_uri": "https://localhost:8080/"
        },
        "id": "FIQDahnpYw7N",
        "outputId": "af792975-1b6a-41fb-b666-66cfe4f20b99"
      },
      "execution_count": 8,
      "outputs": [
        {
          "output_type": "stream",
          "name": "stdout",
          "text": [
            "<class 'float'>\n"
          ]
        }
      ]
    },
    {
      "cell_type": "markdown",
      "source": [
        "float=실수"
      ],
      "metadata": {
        "id": "oKA16CN7ZPoP"
      }
    },
    {
      "cell_type": "code",
      "source": [
        "t = 21; print(type(t))"
      ],
      "metadata": {
        "colab": {
          "base_uri": "https://localhost:8080/"
        },
        "id": "DXcX7Fv8ZSNU",
        "outputId": "25bccc92-b021-4e46-832c-5ceca7b75bad"
      },
      "execution_count": 10,
      "outputs": [
        {
          "output_type": "stream",
          "name": "stdout",
          "text": [
            "<class 'int'>\n"
          ]
        }
      ]
    },
    {
      "cell_type": "markdown",
      "source": [
        "string (single or double quote both okay)"
      ],
      "metadata": {
        "id": "ejrVZI6ubRG-"
      }
    },
    {
      "cell_type": "code",
      "source": [
        "t = '23456'; print(type(t)); print(t[3])"
      ],
      "metadata": {
        "colab": {
          "base_uri": "https://localhost:8080/"
        },
        "id": "LMkPJx1CZrpS",
        "outputId": "b336e847-f95b-4b60-d052-842d0c86e590"
      },
      "execution_count": 17,
      "outputs": [
        {
          "output_type": "stream",
          "name": "stdout",
          "text": [
            "<class 'str'>\n",
            "5\n"
          ]
        }
      ]
    },
    {
      "cell_type": "code",
      "source": [
        "t = \"twenty one pilots\"; print(type(t)); print(t[7])"
      ],
      "metadata": {
        "colab": {
          "base_uri": "https://localhost:8080/"
        },
        "id": "vpK9VlODbSmZ",
        "outputId": "c954b654-8533-4832-bd58-db0faca4b8b4"
      },
      "execution_count": 18,
      "outputs": [
        {
          "output_type": "stream",
          "name": "stdout",
          "text": [
            "<class 'str'>\n",
            "o\n"
          ]
        }
      ]
    },
    {
      "cell_type": "markdown",
      "source": [
        "list"
      ],
      "metadata": {
        "id": "PEfsqXDubsuH"
      }
    },
    {
      "cell_type": "code",
      "source": [
        "t = [3, 2, 2]; print(type(t)); print(t[1])"
      ],
      "metadata": {
        "colab": {
          "base_uri": "https://localhost:8080/"
        },
        "id": "zHCfIel9bpaS",
        "outputId": "aa78005b-8246-4a3e-a1c7-5376f0548171"
      },
      "execution_count": 19,
      "outputs": [
        {
          "output_type": "stream",
          "name": "stdout",
          "text": [
            "<class 'list'>\n",
            "2\n"
          ]
        }
      ]
    },
    {
      "cell_type": "code",
      "source": [
        "t = ['m', 'c', 'r', 4, 7, ['p', 8, 9]]; print(type(t)); print(t[2]); print(t[5][0])"
      ],
      "metadata": {
        "colab": {
          "base_uri": "https://localhost:8080/"
        },
        "id": "75QhOBNccYV3",
        "outputId": "3e76abd9-2034-42a3-8d23-2c791a751881"
      },
      "execution_count": 22,
      "outputs": [
        {
          "output_type": "stream",
          "name": "stdout",
          "text": [
            "<class 'list'>\n",
            "r\n",
            "p\n"
          ]
        }
      ]
    },
    {
      "cell_type": "markdown",
      "source": [
        "Dict (중괄호)"
      ],
      "metadata": {
        "id": "MtwKg7MedmWQ"
      }
    },
    {
      "cell_type": "code",
      "source": [
        "t= {\"r\": \"rock\", \"ty\": \"tyler\", \"123\": 893582}; print(type(t)); print(t[\"ty\"])"
      ],
      "metadata": {
        "colab": {
          "base_uri": "https://localhost:8080/"
        },
        "id": "Ou2fI9efdnVZ",
        "outputId": "75b39d28-9422-4747-8438-83047bede566"
      },
      "execution_count": 29,
      "outputs": [
        {
          "output_type": "stream",
          "name": "stdout",
          "text": [
            "<class 'dict'>\n",
            "tyler\n"
          ]
        }
      ]
    },
    {
      "cell_type": "markdown",
      "source": [
        "**String** (s)"
      ],
      "metadata": {
        "id": "Qm0xh1Lhfe-e"
      }
    },
    {
      "cell_type": "code",
      "source": [
        "s = \"12345678\" \n",
        "print(s[2], s[4], s[5])\n",
        "print(s[:4], s[:], s[2:7], s[0:], s[4:-1])"
      ],
      "metadata": {
        "colab": {
          "base_uri": "https://localhost:8080/"
        },
        "id": "0r8Gyz8ofivg",
        "outputId": "3852ec60-565f-46e1-ba2d-56ffdb67e59f"
      },
      "execution_count": 32,
      "outputs": [
        {
          "output_type": "stream",
          "name": "stdout",
          "text": [
            "3 5 6\n",
            "1234 12345678 34567 12345678 567\n"
          ]
        }
      ]
    },
    {
      "cell_type": "markdown",
      "source": [
        "**List** (n)"
      ],
      "metadata": {
        "id": "roarbFHBhHlC"
      }
    },
    {
      "cell_type": "code",
      "source": [
        "n = [200, 400, 600]\n",
        "print(n[1])\n",
        "print(n[:-1])"
      ],
      "metadata": {
        "colab": {
          "base_uri": "https://localhost:8080/"
        },
        "id": "8BtMRcEQhJv5",
        "outputId": "626a934c-4111-497e-84a9-bcb1aa6e5420"
      },
      "execution_count": 33,
      "outputs": [
        {
          "output_type": "stream",
          "name": "stdout",
          "text": [
            "400\n",
            "[200, 400]\n"
          ]
        }
      ]
    },
    {
      "cell_type": "code",
      "source": [
        "len(n)"
      ],
      "metadata": {
        "colab": {
          "base_uri": "https://localhost:8080/"
        },
        "id": "aIRhZvVVhet6",
        "outputId": "1db90b04-f3f7-4bec-8294-a2919098d6fc"
      },
      "execution_count": 37,
      "outputs": [
        {
          "output_type": "execute_result",
          "data": {
            "text/plain": [
              "3"
            ]
          },
          "metadata": {},
          "execution_count": 37
        }
      ]
    },
    {
      "cell_type": "code",
      "source": [
        "len(s)"
      ],
      "metadata": {
        "colab": {
          "base_uri": "https://localhost:8080/"
        },
        "id": "f9Yp0uszhrIe",
        "outputId": "62107c2a-2e19-4fa0-8144-b173fbb67f7e"
      },
      "execution_count": 38,
      "outputs": [
        {
          "output_type": "execute_result",
          "data": {
            "text/plain": [
              "8"
            ]
          },
          "metadata": {},
          "execution_count": 38
        }
      ]
    },
    {
      "cell_type": "markdown",
      "source": [
        "사칙연산"
      ],
      "metadata": {
        "id": "y8iHkzHHh578"
      }
    },
    {
      "cell_type": "code",
      "source": [
        "s[2]+s[6]+s[7:]*21"
      ],
      "metadata": {
        "colab": {
          "base_uri": "https://localhost:8080/",
          "height": 35
        },
        "id": "lTnlapqrhtSA",
        "outputId": "d0b3e2dd-585c-4b0a-d443-3c96242e6e52"
      },
      "execution_count": 44,
      "outputs": [
        {
          "output_type": "execute_result",
          "data": {
            "text/plain": [
              "'37888888888888888888888'"
            ],
            "application/vnd.google.colaboratory.intrinsic+json": {
              "type": "string"
            }
          },
          "metadata": {},
          "execution_count": 44
        }
      ]
    },
    {
      "cell_type": "code",
      "source": [
        "s = ' I am on the outside in the summer heat' \n",
        "s"
      ],
      "metadata": {
        "colab": {
          "base_uri": "https://localhost:8080/",
          "height": 35
        },
        "id": "KWQ4xkqqjMA-",
        "outputId": "4893083b-cb0c-4747-ed95-e2954176e505"
      },
      "execution_count": 52,
      "outputs": [
        {
          "output_type": "execute_result",
          "data": {
            "text/plain": [
              "' I am on the outside in the summer heat'"
            ],
            "application/vnd.google.colaboratory.intrinsic+json": {
              "type": "string"
            }
          },
          "metadata": {},
          "execution_count": 52
        }
      ]
    },
    {
      "cell_type": "code",
      "source": [
        "result = s.find('outside')\n",
        "result"
      ],
      "metadata": {
        "colab": {
          "base_uri": "https://localhost:8080/"
        },
        "id": "1fwMv9cajSQL",
        "outputId": "5e8401f0-ad71-4a0c-c185-b3f8242801bc"
      },
      "execution_count": 53,
      "outputs": [
        {
          "output_type": "execute_result",
          "data": {
            "text/plain": [
              "13"
            ]
          },
          "metadata": {},
          "execution_count": 53
        }
      ]
    },
    {
      "cell_type": "code",
      "source": [
        "s = s.strip()\n",
        "s"
      ],
      "metadata": {
        "colab": {
          "base_uri": "https://localhost:8080/",
          "height": 35
        },
        "id": "mYMK3CVMj1RD",
        "outputId": "a8e51ac6-550d-4829-e064-9e10079a117a"
      },
      "execution_count": 57,
      "outputs": [
        {
          "output_type": "execute_result",
          "data": {
            "text/plain": [
              "'I am on the outside in the summer heat'"
            ],
            "application/vnd.google.colaboratory.intrinsic+json": {
              "type": "string"
            }
          },
          "metadata": {},
          "execution_count": 57
        }
      ]
    },
    {
      "cell_type": "code",
      "source": [
        "tokens = s.split(' ')\n",
        "tokens"
      ],
      "metadata": {
        "colab": {
          "base_uri": "https://localhost:8080/"
        },
        "id": "T0Rp9GgLkLL3",
        "outputId": "71539edd-b41f-462b-8de8-adb5efc83ba7"
      },
      "execution_count": 58,
      "outputs": [
        {
          "output_type": "execute_result",
          "data": {
            "text/plain": [
              "['I', 'am', 'on', 'the', 'outside', 'in', 'the', 'summer', 'heat']"
            ]
          },
          "metadata": {},
          "execution_count": 58
        }
      ]
    },
    {
      "cell_type": "code",
      "source": [
        "s = ' '.join(tokens)\n",
        "s"
      ],
      "metadata": {
        "colab": {
          "base_uri": "https://localhost:8080/",
          "height": 35
        },
        "id": "I9SF5uXikYkp",
        "outputId": "115998b8-9a6e-409d-e8b4-dd6e3084c127"
      },
      "execution_count": 59,
      "outputs": [
        {
          "output_type": "execute_result",
          "data": {
            "text/plain": [
              "'I am on the outside in the summer heat'"
            ],
            "application/vnd.google.colaboratory.intrinsic+json": {
              "type": "string"
            }
          },
          "metadata": {},
          "execution_count": 59
        }
      ]
    },
    {
      "cell_type": "code",
      "source": [
        "s = s.replace('outside', 'inside')\n",
        "s"
      ],
      "metadata": {
        "colab": {
          "base_uri": "https://localhost:8080/",
          "height": 35
        },
        "id": "tqgsux7Pkhr7",
        "outputId": "69c4fc85-d55a-411c-d616-7cfe1e22792c"
      },
      "execution_count": 60,
      "outputs": [
        {
          "output_type": "execute_result",
          "data": {
            "text/plain": [
              "'I am on the inside in the summer heat'"
            ],
            "application/vnd.google.colaboratory.intrinsic+json": {
              "type": "string"
            }
          },
          "metadata": {},
          "execution_count": 60
        }
      ]
    },
    {
      "cell_type": "markdown",
      "source": [
        "# 함수 Function"
      ],
      "metadata": {
        "id": "y3pFiLIWkuYD"
      }
    },
    {
      "cell_type": "code",
      "source": [
        "def add(a,b):\n",
        "  return a+b\n",
        "def subtract(a,b):\n",
        "  return a-b\n",
        "def multiply(a,b):\n",
        "  return a*b\n",
        "def divide(a,b):\n",
        "  return a/b"
      ],
      "metadata": {
        "id": "Vk1-XJkRkx7F"
      },
      "execution_count": 67,
      "outputs": []
    },
    {
      "cell_type": "code",
      "source": [
        "t = add(21,322); print(t)\n",
        "t = subtract(21,322); print(t)\n",
        "t = multiply(21,322); print(t)\n",
        "t = divide(21,322); print(t)"
      ],
      "metadata": {
        "colab": {
          "base_uri": "https://localhost:8080/"
        },
        "id": "EBqqp1K7macv",
        "outputId": "f2bc0a20-10c1-498f-d699-b0a973981a53"
      },
      "execution_count": 70,
      "outputs": [
        {
          "output_type": "stream",
          "name": "stdout",
          "text": [
            "343\n",
            "-301\n",
            "6762\n",
            "0.06521739130434782\n"
          ]
        }
      ]
    },
    {
      "cell_type": "markdown",
      "source": [
        "# 문법 Syntax"
      ],
      "metadata": {
        "id": "hmbJsd06o5N2"
      }
    },
    {
      "cell_type": "code",
      "source": [
        "t = [23, 556, 23, 1]\n",
        "for i in t:\n",
        "  print(i)"
      ],
      "metadata": {
        "colab": {
          "base_uri": "https://localhost:8080/"
        },
        "id": "e7PrHabwo_Ea",
        "outputId": "056ce080-900c-414e-c3d1-2444202622e0"
      },
      "execution_count": 72,
      "outputs": [
        {
          "output_type": "stream",
          "name": "stdout",
          "text": [
            "23\n",
            "556\n",
            "23\n",
            "1\n"
          ]
        }
      ]
    },
    {
      "cell_type": "code",
      "source": [
        "t = [23, 556, 'red', 1]\n",
        "for i in range(len(t)):\n",
        "  print(t[i])"
      ],
      "metadata": {
        "colab": {
          "base_uri": "https://localhost:8080/"
        },
        "id": "AmWGJkC_rz0b",
        "outputId": "58ed6657-4ede-4583-b1f4-b6302ddbe8c5"
      },
      "execution_count": 76,
      "outputs": [
        {
          "output_type": "stream",
          "name": "stdout",
          "text": [
            "23\n",
            "556\n",
            "red\n",
            "1\n"
          ]
        }
      ]
    },
    {
      "cell_type": "code",
      "source": [
        "t = 2\n",
        "if t == 0:\n",
        "    print(t)\n",
        "else:\n",
        "    print(t+1)"
      ],
      "metadata": {
        "colab": {
          "base_uri": "https://localhost:8080/"
        },
        "id": "AYTZ-OJ0sQx3",
        "outputId": "8582c6c8-571c-4e44-819b-0387c56ae25a"
      },
      "execution_count": 77,
      "outputs": [
        {
          "output_type": "stream",
          "name": "stdout",
          "text": [
            "3\n"
          ]
        }
      ]
    },
    {
      "cell_type": "code",
      "source": [
        "for i in range(1, 6):\n",
        "    for j in range(4, 7):\n",
        "        print(i*j)"
      ],
      "metadata": {
        "colab": {
          "base_uri": "https://localhost:8080/"
        },
        "id": "EHobnYqEs_dc",
        "outputId": "4c527627-cc77-4957-f09a-2cd9e57b92bd"
      },
      "execution_count": 78,
      "outputs": [
        {
          "output_type": "stream",
          "name": "stdout",
          "text": [
            "4\n",
            "5\n",
            "6\n",
            "8\n",
            "10\n",
            "12\n",
            "12\n",
            "15\n",
            "18\n",
            "16\n",
            "20\n",
            "24\n",
            "20\n",
            "25\n",
            "30\n"
          ]
        }
      ]
    },
    {
      "cell_type": "code",
      "source": [
        "for i in range(1, 6):\n",
        "    for j in range(4, 7):\n",
        "        if j >=6:\n",
        "            print(i*j)"
      ],
      "metadata": {
        "colab": {
          "base_uri": "https://localhost:8080/"
        },
        "id": "HwWGFqfntf_x",
        "outputId": "d7a29bfa-aaf3-48cc-9276-1c1861e38b92"
      },
      "execution_count": 79,
      "outputs": [
        {
          "output_type": "stream",
          "name": "stdout",
          "text": [
            "6\n",
            "12\n",
            "18\n",
            "24\n",
            "30\n"
          ]
        }
      ]
    },
    {
      "cell_type": "code",
      "source": [
        "a = [1, 2, 3, 4]\n",
        "b = [i for i in a if i >=2]\n",
        "b"
      ],
      "metadata": {
        "colab": {
          "base_uri": "https://localhost:8080/"
        },
        "id": "1FppCpgAt8Hd",
        "outputId": "18c7b1f3-f0b7-49ef-a171-482144d576f1"
      },
      "execution_count": 80,
      "outputs": [
        {
          "output_type": "execute_result",
          "data": {
            "text/plain": [
              "[2, 3, 4]"
            ]
          },
          "metadata": {},
          "execution_count": 80
        }
      ]
    },
    {
      "cell_type": "code",
      "source": [
        "a = ['legend', 'inertia', 'trust', 'fairly']\n",
        "b = [i for i in a if len(i) >=6]\n",
        "b"
      ],
      "metadata": {
        "colab": {
          "base_uri": "https://localhost:8080/"
        },
        "id": "UgNALEOPuQrG",
        "outputId": "290e4ffc-b1cf-4c66-c47f-984388a759c3"
      },
      "execution_count": 81,
      "outputs": [
        {
          "output_type": "execute_result",
          "data": {
            "text/plain": [
              "['legend', 'inertia', 'fairly']"
            ]
          },
          "metadata": {},
          "execution_count": 81
        }
      ]
    },
    {
      "cell_type": "code",
      "source": [
        "a = ['legend', 'inertia', 'trust', 'fairly']\n",
        "b = [1, 2, 3, 4, 5]\n",
        "c = {a[i]:b[i] for i in range(4)}\n",
        "c"
      ],
      "metadata": {
        "colab": {
          "base_uri": "https://localhost:8080/"
        },
        "id": "ZIvj0vYnu4L8",
        "outputId": "6f003749-a5ea-40b7-f6eb-781720bbf712"
      },
      "execution_count": 85,
      "outputs": [
        {
          "output_type": "execute_result",
          "data": {
            "text/plain": [
              "{'fairly': 4, 'inertia': 2, 'legend': 1, 'trust': 3}"
            ]
          },
          "metadata": {},
          "execution_count": 85
        }
      ]
    },
    {
      "cell_type": "markdown",
      "source": [
        "# Packages"
      ],
      "metadata": {
        "id": "TUcLjM0xv0-m"
      }
    },
    {
      "cell_type": "code",
      "source": [
        "import numpy \n",
        "import pandas\n",
        "import matplotlib\n",
        "import seaborn\n",
        "import sklearn\n",
        "import requests\n",
        "import urllib3\n",
        "import nltk\n",
        "import PIL\n",
        "import pytest\n",
        "import librosa"
      ],
      "metadata": {
        "id": "lesa1LyLv3Te"
      },
      "execution_count": 86,
      "outputs": []
    },
    {
      "cell_type": "markdown",
      "source": [
        "**Import** / 축약"
      ],
      "metadata": {
        "id": "ylKOVm4g8h9D"
      }
    },
    {
      "cell_type": "code",
      "source": [
        "import numpy as np\n",
        "n = np.random.randn(300)"
      ],
      "metadata": {
        "id": "WxboSDys8j-0"
      },
      "execution_count": 15,
      "outputs": []
    },
    {
      "cell_type": "code",
      "source": [
        "import matplotlib\n",
        "matplotlib.pyplot.hist(n)"
      ],
      "metadata": {
        "colab": {
          "base_uri": "https://localhost:8080/",
          "height": 356
        },
        "id": "RuTntooP8pYF",
        "outputId": "c5d6c8e5-56ff-41df-8f43-60ed9039f434"
      },
      "execution_count": 16,
      "outputs": [
        {
          "output_type": "execute_result",
          "data": {
            "text/plain": [
              "(array([ 7., 13., 27., 45., 63., 49., 48., 29., 13.,  6.]),\n",
              " array([-2.46953104, -1.96029823, -1.45106541, -0.94183259, -0.43259978,\n",
              "         0.07663304,  0.58586585,  1.09509867,  1.60433149,  2.1135643 ,\n",
              "         2.62279712]),\n",
              " <a list of 10 Patch objects>)"
            ]
          },
          "metadata": {},
          "execution_count": 16
        },
        {
          "output_type": "display_data",
          "data": {
            "text/plain": [
              "<Figure size 432x288 with 1 Axes>"
            ],
            "image/png": "[encoded data removed]"
          },
          "metadata": {
            "needs_background": "light"
          }
        }
      ]
    },
    {
      "cell_type": "code",
      "source": [
        "import matplotlib.pyplot as plt"
      ],
      "metadata": {
        "id": "ISl_e14i9LSg"
      },
      "execution_count": 18,
      "outputs": []
    },
    {
      "cell_type": "code",
      "source": [
        "import matplotlib.pyplot\n",
        "plt.hist(n)"
      ],
      "metadata": {
        "colab": {
          "base_uri": "https://localhost:8080/",
          "height": 356
        },
        "id": "J_4z5YVI9DWx",
        "outputId": "154c15de-6048-401c-bf3f-c4d4f8adfcb6"
      },
      "execution_count": 19,
      "outputs": [
        {
          "output_type": "execute_result",
          "data": {
            "text/plain": [
              "(array([ 7., 13., 27., 45., 63., 49., 48., 29., 13.,  6.]),\n",
              " array([-2.46953104, -1.96029823, -1.45106541, -0.94183259, -0.43259978,\n",
              "         0.07663304,  0.58586585,  1.09509867,  1.60433149,  2.1135643 ,\n",
              "         2.62279712]),\n",
              " <a list of 10 Patch objects>)"
            ]
          },
          "metadata": {},
          "execution_count": 19
        },
        {
          "output_type": "display_data",
          "data": {
            "text/plain": [
              "<Figure size 432x288 with 1 Axes>"
            ],
            "image/png": "[encoded data removed]"
          },
          "metadata": {
            "needs_background": "light"
          }
        }
      ]
    },
    {
      "cell_type": "code",
      "source": [
        "from matplotlib import pyplot\n",
        "pyplot.hist(n)"
      ],
      "metadata": {
        "colab": {
          "base_uri": "https://localhost:8080/",
          "height": 356
        },
        "id": "AtnNorQ79X-h",
        "outputId": "b9a169a6-d10b-44c6-edb4-6191f611609b"
      },
      "execution_count": 22,
      "outputs": [
        {
          "output_type": "execute_result",
          "data": {
            "text/plain": [
              "(array([ 7., 13., 27., 45., 63., 49., 48., 29., 13.,  6.]),\n",
              " array([-2.46953104, -1.96029823, -1.45106541, -0.94183259, -0.43259978,\n",
              "         0.07663304,  0.58586585,  1.09509867,  1.60433149,  2.1135643 ,\n",
              "         2.62279712]),\n",
              " <a list of 10 Patch objects>)"
            ]
          },
          "metadata": {},
          "execution_count": 22
        },
        {
          "output_type": "display_data",
          "data": {
            "text/plain": [
              "<Figure size 432x288 with 1 Axes>"
            ],
            "image/png": "[encoded data removed]"
          },
          "metadata": {
            "needs_background": "light"
          }
        }
      ]
    },
    {
      "cell_type": "code",
      "source": [
        "from matplotlib.pyplot import hist\n",
        "hist(n)"
      ],
      "metadata": {
        "colab": {
          "base_uri": "https://localhost:8080/",
          "height": 356
        },
        "id": "ndCCscWA9tVC",
        "outputId": "843e762d-f9e6-4cab-ad47-832a90eec930"
      },
      "execution_count": 23,
      "outputs": [
        {
          "output_type": "execute_result",
          "data": {
            "text/plain": [
              "(array([ 7., 13., 27., 45., 63., 49., 48., 29., 13.,  6.]),\n",
              " array([-2.46953104, -1.96029823, -1.45106541, -0.94183259, -0.43259978,\n",
              "         0.07663304,  0.58586585,  1.09509867,  1.60433149,  2.1135643 ,\n",
              "         2.62279712]),\n",
              " <a list of 10 Patch objects>)"
            ]
          },
          "metadata": {},
          "execution_count": 23
        },
        {
          "output_type": "display_data",
          "data": {
            "text/plain": [
              "<Figure size 432x288 with 1 Axes>"
            ],
            "image/png": "[encoded data removed]"
          },
          "metadata": {
            "needs_background": "light"
          }
        }
      ]
    },
    {
      "cell_type": "markdown",
      "source": [
        "**NumPy**"
      ],
      "metadata": {
        "id": "fMTHsJ3VwXcP"
      }
    },
    {
      "cell_type": "code",
      "source": [
        "import numpy as np"
      ],
      "metadata": {
        "id": "sgOcq8IQwW_5"
      },
      "execution_count": 2,
      "outputs": []
    },
    {
      "cell_type": "code",
      "source": [
        "x = np.array([4,5,6,7])\n",
        "print(x)\n",
        "print(type(x))\n",
        "print(x.shape)"
      ],
      "metadata": {
        "colab": {
          "base_uri": "https://localhost:8080/"
        },
        "id": "Ys-JgPFxy6mD",
        "outputId": "798f523b-ff5c-400d-e92e-7847ce8cf257"
      },
      "execution_count": 89,
      "outputs": [
        {
          "output_type": "stream",
          "name": "stdout",
          "text": [
            "[4 5 6 7]\n",
            "<class 'numpy.ndarray'>\n",
            "(4,)\n"
          ]
        }
      ]
    },
    {
      "cell_type": "code",
      "source": [
        "x = np.arange(0,12,3)\n",
        "print(x)\n",
        "print(type(x))\n",
        "print(x.shape)"
      ],
      "metadata": {
        "colab": {
          "base_uri": "https://localhost:8080/"
        },
        "id": "znMfZVwCzy5Y",
        "outputId": "2950f61c-77cc-4e90-edc9-23c87d408f87"
      },
      "execution_count": 90,
      "outputs": [
        {
          "output_type": "stream",
          "name": "stdout",
          "text": [
            "[0 3 6 9]\n",
            "<class 'numpy.ndarray'>\n",
            "(4,)\n"
          ]
        }
      ]
    },
    {
      "cell_type": "code",
      "source": [
        "x = np.linspace(1,21,4)\n",
        "print(x)\n",
        "print(type(x))\n",
        "print(x.shape)"
      ],
      "metadata": {
        "colab": {
          "base_uri": "https://localhost:8080/"
        },
        "id": "SHrsIYba0i-1",
        "outputId": "505c714a-d4a7-42c3-a8d6-1fcdf30dc5da"
      },
      "execution_count": 95,
      "outputs": [
        {
          "output_type": "stream",
          "name": "stdout",
          "text": [
            "[ 1.          7.66666667 14.33333333 21.        ]\n",
            "<class 'numpy.ndarray'>\n",
            "(4,)\n"
          ]
        }
      ]
    },
    {
      "cell_type": "code",
      "source": [
        "x = np.array([[1,2,3,7], [4,5,6,8]])\n",
        "print(x)\n",
        "print(type(x))\n",
        "print(x.shape)"
      ],
      "metadata": {
        "colab": {
          "base_uri": "https://localhost:8080/"
        },
        "id": "Ty2Igtys0zTG",
        "outputId": "ca163b27-cfa5-45f8-e25f-86fbfaab71ac"
      },
      "execution_count": 97,
      "outputs": [
        {
          "output_type": "stream",
          "name": "stdout",
          "text": [
            "[[1 2 3 7]\n",
            " [4 5 6 8]]\n",
            "<class 'numpy.ndarray'>\n",
            "(2, 4)\n"
          ]
        }
      ]
    },
    {
      "cell_type": "code",
      "source": [
        "x = np.ones([4, 2, 3])\n",
        "print(x)\n",
        "print(type(x))\n",
        "print(x.shape)"
      ],
      "metadata": {
        "colab": {
          "base_uri": "https://localhost:8080/"
        },
        "id": "ETL8FIM01dcp",
        "outputId": "9e304820-239c-405f-aa26-95707b36f302"
      },
      "execution_count": 101,
      "outputs": [
        {
          "output_type": "stream",
          "name": "stdout",
          "text": [
            "[[[1. 1. 1.]\n",
            "  [1. 1. 1.]]\n",
            "\n",
            " [[1. 1. 1.]\n",
            "  [1. 1. 1.]]\n",
            "\n",
            " [[1. 1. 1.]\n",
            "  [1. 1. 1.]]\n",
            "\n",
            " [[1. 1. 1.]\n",
            "  [1. 1. 1.]]]\n",
            "<class 'numpy.ndarray'>\n",
            "(4, 2, 3)\n"
          ]
        }
      ]
    },
    {
      "cell_type": "code",
      "source": [
        "x = np.ones([2, 2, 3])\n",
        "print(x)\n",
        "print(type(x))\n",
        "print(x.shape)\n",
        "x.reshape(2,3,2)"
      ],
      "metadata": {
        "colab": {
          "base_uri": "https://localhost:8080/"
        },
        "id": "CSZq7khn2sNR",
        "outputId": "fadf1123-c6e0-4e5f-911c-ea17c0073f92"
      },
      "execution_count": 104,
      "outputs": [
        {
          "output_type": "stream",
          "name": "stdout",
          "text": [
            "[[[1. 1. 1.]\n",
            "  [1. 1. 1.]]\n",
            "\n",
            " [[1. 1. 1.]\n",
            "  [1. 1. 1.]]]\n",
            "<class 'numpy.ndarray'>\n",
            "(2, 2, 3)\n"
          ]
        },
        {
          "output_type": "execute_result",
          "data": {
            "text/plain": [
              "array([[[1., 1.],\n",
              "        [1., 1.],\n",
              "        [1., 1.]],\n",
              "\n",
              "       [[1., 1.],\n",
              "        [1., 1.],\n",
              "        [1., 1.]]])"
            ]
          },
          "metadata": {},
          "execution_count": 104
        }
      ]
    },
    {
      "cell_type": "markdown",
      "source": [
        "**Create Random Numbers**"
      ],
      "metadata": {
        "id": "VRTSOemx25Om"
      }
    },
    {
      "cell_type": "code",
      "source": [
        "numpy.random.randn(6)"
      ],
      "metadata": {
        "colab": {
          "base_uri": "https://localhost:8080/"
        },
        "id": "2JN65KSV283W",
        "outputId": "f3663ff0-d685-468e-adf3-e3c733cd2d95"
      },
      "execution_count": 105,
      "outputs": [
        {
          "output_type": "execute_result",
          "data": {
            "text/plain": [
              "array([-0.88508479, -0.33879295,  0.37356195,  0.17293785,  0.29721956,\n",
              "        1.35618417])"
            ]
          },
          "metadata": {},
          "execution_count": 105
        }
      ]
    },
    {
      "cell_type": "code",
      "source": [
        "np.random.normal(0, 1, [2,3,4])"
      ],
      "metadata": {
        "colab": {
          "base_uri": "https://localhost:8080/"
        },
        "id": "-T8wmmeB3i1Y",
        "outputId": "4e429b40-c943-4f76-b070-56d8f558b5b9"
      },
      "execution_count": 3,
      "outputs": [
        {
          "output_type": "execute_result",
          "data": {
            "text/plain": [
              "array([[[-1.2492384 ,  0.82845542, -0.13872327, -0.99741241],\n",
              "        [ 1.31835292,  1.24903725,  0.29010596,  0.23884871],\n",
              "        [ 0.13353851, -0.8708618 ,  1.40472687, -0.54806934]],\n",
              "\n",
              "       [[ 0.4693376 , -0.62635579,  0.31718777,  0.81769696],\n",
              "        [-1.26263765,  0.13459772, -0.25576533, -0.24188028],\n",
              "        [-1.40168784, -0.61516681, -0.70835824, -0.89676771]]])"
            ]
          },
          "metadata": {},
          "execution_count": 3
        }
      ]
    },
    {
      "cell_type": "code",
      "source": [
        "import matplotlib.pyplot as plt"
      ],
      "metadata": {
        "id": "K8N9epH14mVX"
      },
      "execution_count": 4,
      "outputs": []
    },
    {
      "cell_type": "code",
      "source": [
        "x = np.random.normal(0, 10, 100)\n",
        "print(x)\n",
        "plt.hist(x, bins=20)"
      ],
      "metadata": {
        "colab": {
          "base_uri": "https://localhost:8080/",
          "height": 791
        },
        "id": "ZxPbfW335ctW",
        "outputId": "50177cb1-545a-4666-e3d6-2bcfa12477f2"
      },
      "execution_count": 6,
      "outputs": [
        {
          "output_type": "stream",
          "name": "stdout",
          "text": [
            "[ 11.12761214   6.85037353  -5.78865574  10.76627115  -8.12723365\n",
            "  -3.61639228  -2.26806841  -2.94955029   1.57297931  -8.97945984\n",
            "  -9.05595414  -7.19879484  -2.34876959 -18.50322723   0.1090925\n",
            "  -1.00989497  -6.07843935 -28.75044801  -6.97268214   5.47637337\n",
            "  -6.00688221  -1.63005481  11.78941989  10.62388116  15.85206953\n",
            "  -5.30096872   2.65976824  -2.44163545  -8.41251258 -12.93000992\n",
            "  13.98682831  10.28751348  -2.11479982 -11.5490921   21.22463343\n",
            "  14.65387978  -6.53518539   8.36295442 -19.78482359 -14.36890968\n",
            "  -9.52599808   7.02229881  -1.09858603   8.83444068  -0.54223919\n",
            "  11.55076113 -11.24114894   4.09649775  -6.08690454  -2.56085309\n",
            "   7.51806258  -2.34194078   1.85233711   5.77435495  15.39394023\n",
            "   4.92720677   2.54153278  -7.3042688   13.42783094  -1.06237861\n",
            "  -7.54361109 -11.84794854   7.65990565 -11.87153699 -16.44610027\n",
            "  25.7266435   -5.12635629   9.4304627    1.5318806   -5.20056971\n",
            "   7.85095999   3.4666707    6.63006772  -7.08417982   2.56019766\n",
            " -11.20031324   7.9182451   -1.14604526   3.21938715  -4.20182819\n",
            "  -4.84118489  -1.50758682   3.37825848  -7.91109035  12.34985462\n",
            "  17.92839741   8.70972874  -3.78997494  -0.84530305  -0.48176167\n",
            "  12.17941293 -11.22420924   0.76322877   7.43624374   5.36941372\n",
            "   8.70773835  -9.0572716   10.32894496  -1.48414585   9.10517346]\n"
          ]
        },
        {
          "output_type": "execute_result",
          "data": {
            "text/plain": [
              "(array([ 1.,  0.,  0.,  2.,  1.,  2.,  6., 12.,  9., 11., 11.,  9.,  6.,\n",
              "        12.,  8.,  5.,  2.,  1.,  1.,  1.]),\n",
              " array([-28.75044801, -26.02659343, -23.30273886, -20.57888428,\n",
              "        -17.85502971, -15.13117513, -12.40732056,  -9.68346598,\n",
              "         -6.95961141,  -4.23575683,  -1.51190226,   1.21195232,\n",
              "          3.93580689,   6.65966147,   9.38351604,  12.10737062,\n",
              "         14.8312252 ,  17.55507977,  20.27893435,  23.00278892,\n",
              "         25.7266435 ]),\n",
              " <a list of 20 Patch objects>)"
            ]
          },
          "metadata": {},
          "execution_count": 6
        },
        {
          "output_type": "display_data",
          "data": {
            "text/plain": [
              "<Figure size 432x288 with 1 Axes>"
            ],
            "image/png": "[encoded data removed]"
          },
          "metadata": {
            "needs_background": "light"
          }
        }
      ]
    },
    {
      "cell_type": "markdown",
      "source": [
        "**Sine Curve**"
      ],
      "metadata": {
        "id": "BXNIbhn25mMx"
      }
    },
    {
      "cell_type": "code",
      "source": [
        "plt.figure()\n",
        "\n",
        "theta1 = np.linspace(0, 4*np.pi, 200)\n",
        "s1 = np.sin(theta1)\n",
        "theta2 = np.linspace(0, 4*np.pi, 200) + np.pi/2\n",
        "s2 = np.sin(theta2)\n",
        "\n",
        "plt.subplot(2, 1, 1) \n",
        "plt.plot(theta1, s1, '-')\n",
        "plt.subplot(2, 1, 2) \n",
        "plt.plot(theta2, s2, '-')"
      ],
      "metadata": {
        "colab": {
          "base_uri": "https://localhost:8080/",
          "height": 283
        },
        "id": "KF6oVNl_5oG3",
        "outputId": "ee63d29c-af07-49ec-9497-f82922f49d86"
      },
      "execution_count": 13,
      "outputs": [
        {
          "output_type": "execute_result",
          "data": {
            "text/plain": [
              "[<matplotlib.lines.Line2D at 0x7f196a8db190>]"
            ]
          },
          "metadata": {},
          "execution_count": 13
        },
        {
          "output_type": "display_data",
          "data": {
            "text/plain": [
              "<Figure size 432x288 with 2 Axes>"
            ],
            "image/png": "[encoded data removed]"
          },
          "metadata": {
            "needs_background": "light"
          }
        }
      ]
    },
    {
      "cell_type": "code",
      "source": [
        "np.corrcoef(s1,s2)"
      ],
      "metadata": {
        "colab": {
          "base_uri": "https://localhost:8080/"
        },
        "id": "hjCI1OqA7MRX",
        "outputId": "ff97ac20-5389-48e8-c68b-5203057a47d1"
      },
      "execution_count": 14,
      "outputs": [
        {
          "output_type": "execute_result",
          "data": {
            "text/plain": [
              "array([[1.00000000e+00, 9.03268579e-17],\n",
              "       [9.03268579e-17, 1.00000000e+00]])"
            ]
          },
          "metadata": {},
          "execution_count": 14
        }
      ]
    }
  ]
}