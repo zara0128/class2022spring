{
  "nbformat": 4,
  "nbformat_minor": 0,
  "metadata": {
    "colab": {
      "name": "20220316.ipynb",
      "provenance": [],
      "collapsed_sections": [],
      "authorship_tag": "ABX9TyNNhLpSeCXIscDpDnaNcEPO",
      "include_colab_link": true
    },
    "kernelspec": {
      "name": "python3",
      "display_name": "Python 3"
    },
    "language_info": {
      "name": "python"
    }
  },
  "cells": [
    {
      "cell_type": "markdown",
      "metadata": {
        "id": "view-in-github",
        "colab_type": "text"
      },
      "source": [
        "<a href=\"https://colab.research.google.com/github/zara0128/class2022spring/blob/main/20220316.ipynb\" target=\"_parent\"><img src=\"https://colab.research.google.com/assets/colab-badge.svg\" alt=\"Open In Colab\"/></a>"
      ]
    },
    {
      "cell_type": "markdown",
      "source": [
        "# 변수"
      ],
      "metadata": {
        "id": "HkUT5sH7YQES"
      }
    },
    {
      "cell_type": "code",
      "execution_count": 11,
      "metadata": {
        "id": "f39xN4fS_Fo2",
        "colab": {
          "base_uri": "https://localhost:8080/"
        },
        "outputId": "85f0baaa-bdc7-4b13-d203-54141154aaa2"
      },
      "outputs": [
        {
          "output_type": "stream",
          "name": "stdout",
          "text": [
            "<class 'int'>\n"
          ]
        }
      ],
      "source": [
        "a = 21; print(type(a))"
      ]
    },
    {
      "cell_type": "markdown",
      "source": [
        "int=정수"
      ],
      "metadata": {
        "id": "G_zXvbUnYuXX"
      }
    },
    {
      "cell_type": "code",
      "source": [
        "a = 21.1; print(type(a))"
      ],
      "metadata": {
        "colab": {
          "base_uri": "https://localhost:8080/"
        },
        "id": "FIQDahnpYw7N",
        "outputId": "af792975-1b6a-41fb-b666-66cfe4f20b99"
      },
      "execution_count": 8,
      "outputs": [
        {
          "output_type": "stream",
          "name": "stdout",
          "text": [
            "<class 'float'>\n"
          ]
        }
      ]
    },
    {
      "cell_type": "markdown",
      "source": [
        "float=실수"
      ],
      "metadata": {
        "id": "oKA16CN7ZPoP"
      }
    },
    {
      "cell_type": "code",
      "source": [
        "t = 21; print(type(t))"
      ],
      "metadata": {
        "colab": {
          "base_uri": "https://localhost:8080/"
        },
        "id": "DXcX7Fv8ZSNU",
        "outputId": "25bccc92-b021-4e46-832c-5ceca7b75bad"
      },
      "execution_count": 10,
      "outputs": [
        {
          "output_type": "stream",
          "name": "stdout",
          "text": [
            "<class 'int'>\n"
          ]
        }
      ]
    },
    {
      "cell_type": "markdown",
      "source": [
        "string (single or double quote both okay)"
      ],
      "metadata": {
        "id": "ejrVZI6ubRG-"
      }
    },
    {
      "cell_type": "code",
      "source": [
        "t = '23456'; print(type(t)); print(t[3])"
      ],
      "metadata": {
        "colab": {
          "base_uri": "https://localhost:8080/"
        },
        "id": "LMkPJx1CZrpS",
        "outputId": "b336e847-f95b-4b60-d052-842d0c86e590"
      },
      "execution_count": 17,
      "outputs": [
        {
          "output_type": "stream",
          "name": "stdout",
          "text": [
            "<class 'str'>\n",
            "5\n"
          ]
        }
      ]
    },
    {
      "cell_type": "code",
      "source": [
        "t = \"twenty one pilots\"; print(type(t)); print(t[7])"
      ],
      "metadata": {
        "colab": {
          "base_uri": "https://localhost:8080/"
        },
        "id": "vpK9VlODbSmZ",
        "outputId": "c954b654-8533-4832-bd58-db0faca4b8b4"
      },
      "execution_count": 18,
      "outputs": [
        {
          "output_type": "stream",
          "name": "stdout",
          "text": [
            "<class 'str'>\n",
            "o\n"
          ]
        }
      ]
    },
    {
      "cell_type": "markdown",
      "source": [
        "list"
      ],
      "metadata": {
        "id": "PEfsqXDubsuH"
      }
    },
    {
      "cell_type": "code",
      "source": [
        "t = [3, 2, 2]; print(type(t)); print(t[1])"
      ],
      "metadata": {
        "colab": {
          "base_uri": "https://localhost:8080/"
        },
        "id": "zHCfIel9bpaS",
        "outputId": "aa78005b-8246-4a3e-a1c7-5376f0548171"
      },
      "execution_count": 19,
      "outputs": [
        {
          "output_type": "stream",
          "name": "stdout",
          "text": [
            "<class 'list'>\n",
            "2\n"
          ]
        }
      ]
    },
    {
      "cell_type": "code",
      "source": [
        "t = ['m', 'c', 'r', 4, 7, ['p', 8, 9]]; print(type(t)); print(t[2]); print(t[5][0])"
      ],
      "metadata": {
        "colab": {
          "base_uri": "https://localhost:8080/"
        },
        "id": "75QhOBNccYV3",
        "outputId": "3e76abd9-2034-42a3-8d23-2c791a751881"
      },
      "execution_count": 22,
      "outputs": [
        {
          "output_type": "stream",
          "name": "stdout",
          "text": [
            "<class 'list'>\n",
            "r\n",
            "p\n"
          ]
        }
      ]
    },
    {
      "cell_type": "markdown",
      "source": [
        "Dict (중괄호)"
      ],
      "metadata": {
        "id": "MtwKg7MedmWQ"
      }
    },
    {
      "cell_type": "code",
      "source": [
        "t= {\"r\": \"rock\", \"ty\": \"tyler\", \"123\": 893582}; print(type(t)); print(t[\"ty\"])"
      ],
      "metadata": {
        "colab": {
          "base_uri": "https://localhost:8080/"
        },
        "id": "Ou2fI9efdnVZ",
        "outputId": "75b39d28-9422-4747-8438-83047bede566"
      },
      "execution_count": 29,
      "outputs": [
        {
          "output_type": "stream",
          "name": "stdout",
          "text": [
            "<class 'dict'>\n",
            "tyler\n"
          ]
        }
      ]
    }
  ]
}